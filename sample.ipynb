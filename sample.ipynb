{
 "cells": [
  {
   "cell_type": "code",
   "execution_count": 1,
   "metadata": {
    "pycharm": {
     "name": "#%%\n"
    }
   },
   "outputs": [],
   "source": [
    "import numpy as np\n",
    "import pandas as pd\n",
    "import matplotlib.pyplot as plt\n",
    "from data.download_wrds_data import main as get_wrds\n",
    "import pickle\n",
    "import os\n",
    "\n",
    "%matplotlib inline\n",
    "%load_ext autoreload\n",
    "%autoreload 2"
   ]
  },
  {
   "cell_type": "code",
   "execution_count": 3,
   "metadata": {
    "pycharm": {
     "name": "#%%\n"
    }
   },
   "outputs": [
    {
     "name": "stdout",
     "output_type": "stream",
     "text": [
      "Enter your WRDS username [joaoromeuferraz]:jrferraz14\n",
      "Enter your password:········\n",
      "WRDS recommends setting up a .pgpass file.\n",
      "Create .pgpass file now [y/n]?: y\n",
      "Created .pgpass file successfully.\n",
      "Loading library list...\n",
      "Done\n"
     ]
    }
   ],
   "source": [
    "# get_wrds(id_type=\"tic\")"
   ]
  },
  {
   "cell_type": "code",
   "execution_count": 2,
   "outputs": [],
   "source": [
    "from data.pull_data import pull_wrds_sample_data\n",
    "from mom_trans.data_prep import deep_momentum_strategy_features, include_changepoint_features"
   ],
   "metadata": {
    "collapsed": false,
    "pycharm": {
     "name": "#%%\n"
    }
   }
  },
  {
   "cell_type": "code",
   "execution_count": 3,
   "metadata": {
    "pycharm": {
     "name": "#%%\n"
    }
   },
   "outputs": [],
   "source": [
    "prices = pickle.load(open(\"data/prices.p\", \"rb\"))\n",
    "constituents = pickle.load(open(\"data/constituents.p\", \"rb\"))\n",
    "\n",
    "prices[\"datadate\"] = pd.to_datetime(prices[\"datadate\"])"
   ]
  },
  {
   "cell_type": "code",
   "execution_count": 5,
   "outputs": [],
   "source": [
    "cpd_module_folder = \"../../../Desktop/OneDrive/cool stuff/data/\""
   ],
   "metadata": {
    "collapsed": false,
    "pycharm": {
     "name": "#%%\n"
    }
   }
  },
  {
   "cell_type": "code",
   "execution_count": 16,
   "outputs": [],
   "source": [
    "from settings.default import CPD_WRDS_OUTPUT_FOLDER, ONEDRIVE_CPD_WRDS_OUTPUT_FOLDER"
   ],
   "metadata": {
    "collapsed": false,
    "pycharm": {
     "name": "#%%\n"
    }
   }
  },
  {
   "cell_type": "code",
   "execution_count": 12,
   "outputs": [],
   "source": [
    "tickers = [x[:-4] for x in os.listdir(os.path.join(cpd_module_folder, \"yfinance_cpd_21lbw\"))]\n",
    "\n",
    "lookback_window_length=21\n",
    "extra_lbw = [126]\n",
    "output_name=\"base\"\n",
    "id_type=\"tic\""
   ],
   "metadata": {
    "collapsed": false,
    "pycharm": {
     "name": "#%%\n"
    }
   }
  },
  {
   "cell_type": "code",
   "execution_count": 13,
   "outputs": [
    {
     "name": "stderr",
     "output_type": "stream",
     "text": [
      "/Users/joaoromeuferraz/Documents/GitHub/momentum_transformer/mom_trans/data_prep.py:120: FutureWarning: weekofyear and week have been deprecated, please use DatetimeIndex.isocalendar().week instead, which returns a Series.  To exactly reproduce the behavior of week and weekofyear and return an Index, you may call pd.Int64Index(idx.isocalendar().week)\n",
      "  df_asset[\"week_of_year\"] = df_asset.index.weekofyear\n",
      "/Users/joaoromeuferraz/Documents/GitHub/momentum_transformer/mom_trans/data_prep.py:120: FutureWarning: weekofyear and week have been deprecated, please use DatetimeIndex.isocalendar().week instead, which returns a Series.  To exactly reproduce the behavior of week and weekofyear and return an Index, you may call pd.Int64Index(idx.isocalendar().week)\n",
      "  df_asset[\"week_of_year\"] = df_asset.index.weekofyear\n",
      "/Users/joaoromeuferraz/Documents/GitHub/momentum_transformer/mom_trans/data_prep.py:120: FutureWarning: weekofyear and week have been deprecated, please use DatetimeIndex.isocalendar().week instead, which returns a Series.  To exactly reproduce the behavior of week and weekofyear and return an Index, you may call pd.Int64Index(idx.isocalendar().week)\n",
      "  df_asset[\"week_of_year\"] = df_asset.index.weekofyear\n",
      "/Users/joaoromeuferraz/Documents/GitHub/momentum_transformer/mom_trans/data_prep.py:120: FutureWarning: weekofyear and week have been deprecated, please use DatetimeIndex.isocalendar().week instead, which returns a Series.  To exactly reproduce the behavior of week and weekofyear and return an Index, you may call pd.Int64Index(idx.isocalendar().week)\n",
      "  df_asset[\"week_of_year\"] = df_asset.index.weekofyear\n",
      "/Users/joaoromeuferraz/Documents/GitHub/momentum_transformer/mom_trans/data_prep.py:120: FutureWarning: weekofyear and week have been deprecated, please use DatetimeIndex.isocalendar().week instead, which returns a Series.  To exactly reproduce the behavior of week and weekofyear and return an Index, you may call pd.Int64Index(idx.isocalendar().week)\n",
      "  df_asset[\"week_of_year\"] = df_asset.index.weekofyear\n",
      "/Users/joaoromeuferraz/Documents/GitHub/momentum_transformer/mom_trans/data_prep.py:120: FutureWarning: weekofyear and week have been deprecated, please use DatetimeIndex.isocalendar().week instead, which returns a Series.  To exactly reproduce the behavior of week and weekofyear and return an Index, you may call pd.Int64Index(idx.isocalendar().week)\n",
      "  df_asset[\"week_of_year\"] = df_asset.index.weekofyear\n",
      "/Users/joaoromeuferraz/Documents/GitHub/momentum_transformer/mom_trans/data_prep.py:120: FutureWarning: weekofyear and week have been deprecated, please use DatetimeIndex.isocalendar().week instead, which returns a Series.  To exactly reproduce the behavior of week and weekofyear and return an Index, you may call pd.Int64Index(idx.isocalendar().week)\n",
      "  df_asset[\"week_of_year\"] = df_asset.index.weekofyear\n",
      "/Users/joaoromeuferraz/Documents/GitHub/momentum_transformer/mom_trans/data_prep.py:120: FutureWarning: weekofyear and week have been deprecated, please use DatetimeIndex.isocalendar().week instead, which returns a Series.  To exactly reproduce the behavior of week and weekofyear and return an Index, you may call pd.Int64Index(idx.isocalendar().week)\n",
      "  df_asset[\"week_of_year\"] = df_asset.index.weekofyear\n",
      "/Users/joaoromeuferraz/Documents/GitHub/momentum_transformer/mom_trans/data_prep.py:120: FutureWarning: weekofyear and week have been deprecated, please use DatetimeIndex.isocalendar().week instead, which returns a Series.  To exactly reproduce the behavior of week and weekofyear and return an Index, you may call pd.Int64Index(idx.isocalendar().week)\n",
      "  df_asset[\"week_of_year\"] = df_asset.index.weekofyear\n",
      "/Users/joaoromeuferraz/Documents/GitHub/momentum_transformer/mom_trans/data_prep.py:120: FutureWarning: weekofyear and week have been deprecated, please use DatetimeIndex.isocalendar().week instead, which returns a Series.  To exactly reproduce the behavior of week and weekofyear and return an Index, you may call pd.Int64Index(idx.isocalendar().week)\n",
      "  df_asset[\"week_of_year\"] = df_asset.index.weekofyear\n",
      "/Users/joaoromeuferraz/Documents/GitHub/momentum_transformer/mom_trans/data_prep.py:120: FutureWarning: weekofyear and week have been deprecated, please use DatetimeIndex.isocalendar().week instead, which returns a Series.  To exactly reproduce the behavior of week and weekofyear and return an Index, you may call pd.Int64Index(idx.isocalendar().week)\n",
      "  df_asset[\"week_of_year\"] = df_asset.index.weekofyear\n",
      "/Users/joaoromeuferraz/Documents/GitHub/momentum_transformer/mom_trans/data_prep.py:120: FutureWarning: weekofyear and week have been deprecated, please use DatetimeIndex.isocalendar().week instead, which returns a Series.  To exactly reproduce the behavior of week and weekofyear and return an Index, you may call pd.Int64Index(idx.isocalendar().week)\n",
      "  df_asset[\"week_of_year\"] = df_asset.index.weekofyear\n",
      "/Users/joaoromeuferraz/Documents/GitHub/momentum_transformer/mom_trans/data_prep.py:120: FutureWarning: weekofyear and week have been deprecated, please use DatetimeIndex.isocalendar().week instead, which returns a Series.  To exactly reproduce the behavior of week and weekofyear and return an Index, you may call pd.Int64Index(idx.isocalendar().week)\n",
      "  df_asset[\"week_of_year\"] = df_asset.index.weekofyear\n",
      "/Users/joaoromeuferraz/Documents/GitHub/momentum_transformer/mom_trans/data_prep.py:120: FutureWarning: weekofyear and week have been deprecated, please use DatetimeIndex.isocalendar().week instead, which returns a Series.  To exactly reproduce the behavior of week and weekofyear and return an Index, you may call pd.Int64Index(idx.isocalendar().week)\n",
      "  df_asset[\"week_of_year\"] = df_asset.index.weekofyear\n",
      "/Users/joaoromeuferraz/Documents/GitHub/momentum_transformer/mom_trans/data_prep.py:120: FutureWarning: weekofyear and week have been deprecated, please use DatetimeIndex.isocalendar().week instead, which returns a Series.  To exactly reproduce the behavior of week and weekofyear and return an Index, you may call pd.Int64Index(idx.isocalendar().week)\n",
      "  df_asset[\"week_of_year\"] = df_asset.index.weekofyear\n",
      "/Users/joaoromeuferraz/Documents/GitHub/momentum_transformer/mom_trans/data_prep.py:120: FutureWarning: weekofyear and week have been deprecated, please use DatetimeIndex.isocalendar().week instead, which returns a Series.  To exactly reproduce the behavior of week and weekofyear and return an Index, you may call pd.Int64Index(idx.isocalendar().week)\n",
      "  df_asset[\"week_of_year\"] = df_asset.index.weekofyear\n",
      "/Users/joaoromeuferraz/Documents/GitHub/momentum_transformer/mom_trans/data_prep.py:120: FutureWarning: weekofyear and week have been deprecated, please use DatetimeIndex.isocalendar().week instead, which returns a Series.  To exactly reproduce the behavior of week and weekofyear and return an Index, you may call pd.Int64Index(idx.isocalendar().week)\n",
      "  df_asset[\"week_of_year\"] = df_asset.index.weekofyear\n",
      "/Users/joaoromeuferraz/Documents/GitHub/momentum_transformer/mom_trans/data_prep.py:120: FutureWarning: weekofyear and week have been deprecated, please use DatetimeIndex.isocalendar().week instead, which returns a Series.  To exactly reproduce the behavior of week and weekofyear and return an Index, you may call pd.Int64Index(idx.isocalendar().week)\n",
      "  df_asset[\"week_of_year\"] = df_asset.index.weekofyear\n",
      "/Users/joaoromeuferraz/Documents/GitHub/momentum_transformer/mom_trans/data_prep.py:120: FutureWarning: weekofyear and week have been deprecated, please use DatetimeIndex.isocalendar().week instead, which returns a Series.  To exactly reproduce the behavior of week and weekofyear and return an Index, you may call pd.Int64Index(idx.isocalendar().week)\n",
      "  df_asset[\"week_of_year\"] = df_asset.index.weekofyear\n",
      "/Users/joaoromeuferraz/Documents/GitHub/momentum_transformer/mom_trans/data_prep.py:120: FutureWarning: weekofyear and week have been deprecated, please use DatetimeIndex.isocalendar().week instead, which returns a Series.  To exactly reproduce the behavior of week and weekofyear and return an Index, you may call pd.Int64Index(idx.isocalendar().week)\n",
      "  df_asset[\"week_of_year\"] = df_asset.index.weekofyear\n",
      "/Users/joaoromeuferraz/Documents/GitHub/momentum_transformer/mom_trans/data_prep.py:120: FutureWarning: weekofyear and week have been deprecated, please use DatetimeIndex.isocalendar().week instead, which returns a Series.  To exactly reproduce the behavior of week and weekofyear and return an Index, you may call pd.Int64Index(idx.isocalendar().week)\n",
      "  df_asset[\"week_of_year\"] = df_asset.index.weekofyear\n",
      "/Users/joaoromeuferraz/Documents/GitHub/momentum_transformer/mom_trans/data_prep.py:120: FutureWarning: weekofyear and week have been deprecated, please use DatetimeIndex.isocalendar().week instead, which returns a Series.  To exactly reproduce the behavior of week and weekofyear and return an Index, you may call pd.Int64Index(idx.isocalendar().week)\n",
      "  df_asset[\"week_of_year\"] = df_asset.index.weekofyear\n",
      "/Users/joaoromeuferraz/Documents/GitHub/momentum_transformer/mom_trans/data_prep.py:120: FutureWarning: weekofyear and week have been deprecated, please use DatetimeIndex.isocalendar().week instead, which returns a Series.  To exactly reproduce the behavior of week and weekofyear and return an Index, you may call pd.Int64Index(idx.isocalendar().week)\n",
      "  df_asset[\"week_of_year\"] = df_asset.index.weekofyear\n",
      "/Users/joaoromeuferraz/Documents/GitHub/momentum_transformer/mom_trans/data_prep.py:120: FutureWarning: weekofyear and week have been deprecated, please use DatetimeIndex.isocalendar().week instead, which returns a Series.  To exactly reproduce the behavior of week and weekofyear and return an Index, you may call pd.Int64Index(idx.isocalendar().week)\n",
      "  df_asset[\"week_of_year\"] = df_asset.index.weekofyear\n",
      "/Users/joaoromeuferraz/Documents/GitHub/momentum_transformer/mom_trans/data_prep.py:120: FutureWarning: weekofyear and week have been deprecated, please use DatetimeIndex.isocalendar().week instead, which returns a Series.  To exactly reproduce the behavior of week and weekofyear and return an Index, you may call pd.Int64Index(idx.isocalendar().week)\n",
      "  df_asset[\"week_of_year\"] = df_asset.index.weekofyear\n",
      "/Users/joaoromeuferraz/Documents/GitHub/momentum_transformer/mom_trans/data_prep.py:120: FutureWarning: weekofyear and week have been deprecated, please use DatetimeIndex.isocalendar().week instead, which returns a Series.  To exactly reproduce the behavior of week and weekofyear and return an Index, you may call pd.Int64Index(idx.isocalendar().week)\n",
      "  df_asset[\"week_of_year\"] = df_asset.index.weekofyear\n",
      "/Users/joaoromeuferraz/Documents/GitHub/momentum_transformer/mom_trans/data_prep.py:120: FutureWarning: weekofyear and week have been deprecated, please use DatetimeIndex.isocalendar().week instead, which returns a Series.  To exactly reproduce the behavior of week and weekofyear and return an Index, you may call pd.Int64Index(idx.isocalendar().week)\n",
      "  df_asset[\"week_of_year\"] = df_asset.index.weekofyear\n",
      "/Users/joaoromeuferraz/Documents/GitHub/momentum_transformer/mom_trans/data_prep.py:120: FutureWarning: weekofyear and week have been deprecated, please use DatetimeIndex.isocalendar().week instead, which returns a Series.  To exactly reproduce the behavior of week and weekofyear and return an Index, you may call pd.Int64Index(idx.isocalendar().week)\n",
      "  df_asset[\"week_of_year\"] = df_asset.index.weekofyear\n",
      "/Users/joaoromeuferraz/Documents/GitHub/momentum_transformer/mom_trans/data_prep.py:120: FutureWarning: weekofyear and week have been deprecated, please use DatetimeIndex.isocalendar().week instead, which returns a Series.  To exactly reproduce the behavior of week and weekofyear and return an Index, you may call pd.Int64Index(idx.isocalendar().week)\n",
      "  df_asset[\"week_of_year\"] = df_asset.index.weekofyear\n"
     ]
    }
   ],
   "source": [
    "features = pd.concat(\n",
    "        [\n",
    "            deep_momentum_strategy_features(pull_wrds_sample_data(ticker, prices, id_type)).assign(\n",
    "                ticker=ticker\n",
    "            )\n",
    "            for ticker in tickers\n",
    "        ]\n",
    "    )"
   ],
   "metadata": {
    "collapsed": false,
    "pycharm": {
     "name": "#%%\n"
    }
   }
  },
  {
   "cell_type": "code",
   "execution_count": 15,
   "outputs": [],
   "source": [
    "features.date = features.index\n",
    "features.index.name = \"Date\""
   ],
   "metadata": {
    "collapsed": false,
    "pycharm": {
     "name": "#%%\n"
    }
   }
  },
  {
   "cell_type": "code",
   "execution_count": 21,
   "outputs": [],
   "source": [
    "cpd_dir = lambda lbw: os.path.join(cpd_module_folder, f\"yfinance_cpd_{lbw}lbw\")"
   ],
   "metadata": {
    "collapsed": false,
    "pycharm": {
     "name": "#%%\n"
    }
   }
  },
  {
   "cell_type": "code",
   "execution_count": 27,
   "outputs": [],
   "source": [
    "lookback_window_length = [21, 126]"
   ],
   "metadata": {
    "collapsed": false,
    "pycharm": {
     "name": "#%%\n"
    }
   }
  },
  {
   "cell_type": "code",
   "execution_count": 28,
   "outputs": [],
   "source": [
    "features_backup = features.copy()"
   ],
   "metadata": {
    "collapsed": false,
    "pycharm": {
     "name": "#%%\n"
    }
   }
  },
  {
   "cell_type": "code",
   "execution_count": 32,
   "outputs": [],
   "source": [
    "x1 = include_changepoint_features(features_backup, cpd_dir(21), 21)"
   ],
   "metadata": {
    "collapsed": false,
    "pycharm": {
     "name": "#%%\n"
    }
   }
  },
  {
   "cell_type": "code",
   "execution_count": 39,
   "outputs": [],
   "source": [
    "features = features_backup.copy()"
   ],
   "metadata": {
    "collapsed": false,
    "pycharm": {
     "name": "#%%\n"
    }
   }
  },
  {
   "cell_type": "code",
   "execution_count": 40,
   "outputs": [],
   "source": [
    "for lbw in lookback_window_length:\n",
    "    features = include_changepoint_features(features, cpd_dir(lbw), lbw)"
   ],
   "metadata": {
    "collapsed": false,
    "pycharm": {
     "name": "#%%\n"
    }
   }
  },
  {
   "cell_type": "code",
   "execution_count": 41,
   "outputs": [
    {
     "data": {
      "text/plain": "                close        srs  daily_returns  daily_vol  target_returns  \\\nDate                                                                         \n1996-01-31   4.625000   4.625000       0.012158   0.032494        0.008733   \n1996-02-01   4.763889   4.763889       0.030030   0.032298       -0.004265   \n1996-02-02   4.694444   4.694444      -0.014577   0.031954        0.011373   \n1996-02-05   4.875000   4.875000       0.038462   0.032023        0.005885   \n1996-02-06   4.972222   4.972222       0.019943   0.031603       -0.002713   \n...               ...        ...            ...        ...             ...   \n2002-02-22  19.750000  19.750000       0.023316   0.028304       -0.002197   \n2002-02-25  19.620000  19.620000      -0.006582   0.027868       -0.004061   \n2002-02-26  19.385000  19.385000      -0.011978   0.027500       -0.012230   \n2002-02-27  18.695000  18.695000      -0.035595   0.027799        0.004545   \n2002-02-28  18.945000  18.945000       0.013373   0.027461        0.014167   \n\n            norm_daily_return  norm_monthly_return  norm_quarterly_return  \\\nDate                                                                        \n1996-01-31           0.374162             0.604516               0.287668   \n1996-02-01           0.929790             1.139506               0.267348   \n1996-02-02          -0.456191             1.341640               0.157711   \n1996-02-05           1.201060             1.548730               0.163443   \n1996-02-06           0.631050             1.822173               0.276863   \n...                       ...                  ...                    ...   \n2002-02-22           0.823777            -0.094469              -0.032442   \n2002-02-25          -0.236195            -0.104353              -0.161103   \n2002-02-26          -0.435542            -0.138754              -0.239649   \n2002-02-27          -1.280425            -0.396679              -0.345954   \n2002-02-28           0.486972            -0.279253              -0.231122   \n\n            norm_biannual_return  norm_annual_return  ...  day_of_month  \\\nDate                                                  ...                 \n1996-01-31              1.544587            2.773520  ...            31   \n1996-02-01              1.768489            2.760811  ...             1   \n1996-02-02              1.554574            2.704598  ...             2   \n1996-02-05              1.606667            2.745955  ...             5   \n1996-02-06              1.716709            2.844674  ...             6   \n...                          ...                 ...  ...           ...   \n2002-02-22              0.899586            0.178812  ...            22   \n2002-02-25              0.972094            0.287487  ...            25   \n2002-02-26              0.785991            0.426247  ...            26   \n2002-02-27              0.864014           -0.036376  ...            27   \n2002-02-28              0.166529           -0.025297  ...            28   \n\n            week_of_year  month_of_year  year       date  ticker  cp_rl_21  \\\nDate                                                                         \n1996-01-31             5              1  1996 1996-01-31    CSCO  0.525251   \n1996-02-01             5              2  1996 1996-02-01    CSCO  0.617405   \n1996-02-02             5              2  1996 1996-02-02    CSCO  0.619980   \n1996-02-05             6              2  1996 1996-02-05    CSCO  0.375134   \n1996-02-06             6              2  1996 1996-02-06    CSCO  0.514018   \n...                  ...            ...   ...        ...     ...       ...   \n2002-02-22             8              2  2002 2002-02-22    INTU  0.712723   \n2002-02-25             9              2  2002 2002-02-25    INTU  0.750626   \n2002-02-26             9              2  2002 2002-02-26    INTU  0.476217   \n2002-02-27             9              2  2002 2002-02-27    INTU  0.523834   \n2002-02-28             9              2  2002 2002-02-28    INTU  0.572063   \n\n            cp_score_21 cp_rl_126 cp_score_126  \nDate                                            \n1996-01-31     0.845105  0.380880     0.868050  \n1996-02-01     0.947214  0.444298     0.830404  \n1996-02-02     0.899936  0.396520     0.851787  \n1996-02-05     0.926491  0.404718     0.857386  \n1996-02-06     0.965610  0.412632     0.839750  \n...                 ...       ...          ...  \n2002-02-22     0.732645  0.949639     1.000000  \n2002-02-25     0.999689  1.000000     1.000000  \n2002-02-26     0.826014  0.966121     1.000000  \n2002-02-27     0.782990  0.975299     1.000000  \n2002-02-28     0.842868  0.825501     1.000000  \n\n[132863 rows x 24 columns]",
      "text/html": "<div>\n<style scoped>\n    .dataframe tbody tr th:only-of-type {\n        vertical-align: middle;\n    }\n\n    .dataframe tbody tr th {\n        vertical-align: top;\n    }\n\n    .dataframe thead th {\n        text-align: right;\n    }\n</style>\n<table border=\"1\" class=\"dataframe\">\n  <thead>\n    <tr style=\"text-align: right;\">\n      <th></th>\n      <th>close</th>\n      <th>srs</th>\n      <th>daily_returns</th>\n      <th>daily_vol</th>\n      <th>target_returns</th>\n      <th>norm_daily_return</th>\n      <th>norm_monthly_return</th>\n      <th>norm_quarterly_return</th>\n      <th>norm_biannual_return</th>\n      <th>norm_annual_return</th>\n      <th>...</th>\n      <th>day_of_month</th>\n      <th>week_of_year</th>\n      <th>month_of_year</th>\n      <th>year</th>\n      <th>date</th>\n      <th>ticker</th>\n      <th>cp_rl_21</th>\n      <th>cp_score_21</th>\n      <th>cp_rl_126</th>\n      <th>cp_score_126</th>\n    </tr>\n    <tr>\n      <th>Date</th>\n      <th></th>\n      <th></th>\n      <th></th>\n      <th></th>\n      <th></th>\n      <th></th>\n      <th></th>\n      <th></th>\n      <th></th>\n      <th></th>\n      <th></th>\n      <th></th>\n      <th></th>\n      <th></th>\n      <th></th>\n      <th></th>\n      <th></th>\n      <th></th>\n      <th></th>\n      <th></th>\n      <th></th>\n    </tr>\n  </thead>\n  <tbody>\n    <tr>\n      <th>1996-01-31</th>\n      <td>4.625000</td>\n      <td>4.625000</td>\n      <td>0.012158</td>\n      <td>0.032494</td>\n      <td>0.008733</td>\n      <td>0.374162</td>\n      <td>0.604516</td>\n      <td>0.287668</td>\n      <td>1.544587</td>\n      <td>2.773520</td>\n      <td>...</td>\n      <td>31</td>\n      <td>5</td>\n      <td>1</td>\n      <td>1996</td>\n      <td>1996-01-31</td>\n      <td>CSCO</td>\n      <td>0.525251</td>\n      <td>0.845105</td>\n      <td>0.380880</td>\n      <td>0.868050</td>\n    </tr>\n    <tr>\n      <th>1996-02-01</th>\n      <td>4.763889</td>\n      <td>4.763889</td>\n      <td>0.030030</td>\n      <td>0.032298</td>\n      <td>-0.004265</td>\n      <td>0.929790</td>\n      <td>1.139506</td>\n      <td>0.267348</td>\n      <td>1.768489</td>\n      <td>2.760811</td>\n      <td>...</td>\n      <td>1</td>\n      <td>5</td>\n      <td>2</td>\n      <td>1996</td>\n      <td>1996-02-01</td>\n      <td>CSCO</td>\n      <td>0.617405</td>\n      <td>0.947214</td>\n      <td>0.444298</td>\n      <td>0.830404</td>\n    </tr>\n    <tr>\n      <th>1996-02-02</th>\n      <td>4.694444</td>\n      <td>4.694444</td>\n      <td>-0.014577</td>\n      <td>0.031954</td>\n      <td>0.011373</td>\n      <td>-0.456191</td>\n      <td>1.341640</td>\n      <td>0.157711</td>\n      <td>1.554574</td>\n      <td>2.704598</td>\n      <td>...</td>\n      <td>2</td>\n      <td>5</td>\n      <td>2</td>\n      <td>1996</td>\n      <td>1996-02-02</td>\n      <td>CSCO</td>\n      <td>0.619980</td>\n      <td>0.899936</td>\n      <td>0.396520</td>\n      <td>0.851787</td>\n    </tr>\n    <tr>\n      <th>1996-02-05</th>\n      <td>4.875000</td>\n      <td>4.875000</td>\n      <td>0.038462</td>\n      <td>0.032023</td>\n      <td>0.005885</td>\n      <td>1.201060</td>\n      <td>1.548730</td>\n      <td>0.163443</td>\n      <td>1.606667</td>\n      <td>2.745955</td>\n      <td>...</td>\n      <td>5</td>\n      <td>6</td>\n      <td>2</td>\n      <td>1996</td>\n      <td>1996-02-05</td>\n      <td>CSCO</td>\n      <td>0.375134</td>\n      <td>0.926491</td>\n      <td>0.404718</td>\n      <td>0.857386</td>\n    </tr>\n    <tr>\n      <th>1996-02-06</th>\n      <td>4.972222</td>\n      <td>4.972222</td>\n      <td>0.019943</td>\n      <td>0.031603</td>\n      <td>-0.002713</td>\n      <td>0.631050</td>\n      <td>1.822173</td>\n      <td>0.276863</td>\n      <td>1.716709</td>\n      <td>2.844674</td>\n      <td>...</td>\n      <td>6</td>\n      <td>6</td>\n      <td>2</td>\n      <td>1996</td>\n      <td>1996-02-06</td>\n      <td>CSCO</td>\n      <td>0.514018</td>\n      <td>0.965610</td>\n      <td>0.412632</td>\n      <td>0.839750</td>\n    </tr>\n    <tr>\n      <th>...</th>\n      <td>...</td>\n      <td>...</td>\n      <td>...</td>\n      <td>...</td>\n      <td>...</td>\n      <td>...</td>\n      <td>...</td>\n      <td>...</td>\n      <td>...</td>\n      <td>...</td>\n      <td>...</td>\n      <td>...</td>\n      <td>...</td>\n      <td>...</td>\n      <td>...</td>\n      <td>...</td>\n      <td>...</td>\n      <td>...</td>\n      <td>...</td>\n      <td>...</td>\n      <td>...</td>\n    </tr>\n    <tr>\n      <th>2002-02-22</th>\n      <td>19.750000</td>\n      <td>19.750000</td>\n      <td>0.023316</td>\n      <td>0.028304</td>\n      <td>-0.002197</td>\n      <td>0.823777</td>\n      <td>-0.094469</td>\n      <td>-0.032442</td>\n      <td>0.899586</td>\n      <td>0.178812</td>\n      <td>...</td>\n      <td>22</td>\n      <td>8</td>\n      <td>2</td>\n      <td>2002</td>\n      <td>2002-02-22</td>\n      <td>INTU</td>\n      <td>0.712723</td>\n      <td>0.732645</td>\n      <td>0.949639</td>\n      <td>1.000000</td>\n    </tr>\n    <tr>\n      <th>2002-02-25</th>\n      <td>19.620000</td>\n      <td>19.620000</td>\n      <td>-0.006582</td>\n      <td>0.027868</td>\n      <td>-0.004061</td>\n      <td>-0.236195</td>\n      <td>-0.104353</td>\n      <td>-0.161103</td>\n      <td>0.972094</td>\n      <td>0.287487</td>\n      <td>...</td>\n      <td>25</td>\n      <td>9</td>\n      <td>2</td>\n      <td>2002</td>\n      <td>2002-02-25</td>\n      <td>INTU</td>\n      <td>0.750626</td>\n      <td>0.999689</td>\n      <td>1.000000</td>\n      <td>1.000000</td>\n    </tr>\n    <tr>\n      <th>2002-02-26</th>\n      <td>19.385000</td>\n      <td>19.385000</td>\n      <td>-0.011978</td>\n      <td>0.027500</td>\n      <td>-0.012230</td>\n      <td>-0.435542</td>\n      <td>-0.138754</td>\n      <td>-0.239649</td>\n      <td>0.785991</td>\n      <td>0.426247</td>\n      <td>...</td>\n      <td>26</td>\n      <td>9</td>\n      <td>2</td>\n      <td>2002</td>\n      <td>2002-02-26</td>\n      <td>INTU</td>\n      <td>0.476217</td>\n      <td>0.826014</td>\n      <td>0.966121</td>\n      <td>1.000000</td>\n    </tr>\n    <tr>\n      <th>2002-02-27</th>\n      <td>18.695000</td>\n      <td>18.695000</td>\n      <td>-0.035595</td>\n      <td>0.027799</td>\n      <td>0.004545</td>\n      <td>-1.280425</td>\n      <td>-0.396679</td>\n      <td>-0.345954</td>\n      <td>0.864014</td>\n      <td>-0.036376</td>\n      <td>...</td>\n      <td>27</td>\n      <td>9</td>\n      <td>2</td>\n      <td>2002</td>\n      <td>2002-02-27</td>\n      <td>INTU</td>\n      <td>0.523834</td>\n      <td>0.782990</td>\n      <td>0.975299</td>\n      <td>1.000000</td>\n    </tr>\n    <tr>\n      <th>2002-02-28</th>\n      <td>18.945000</td>\n      <td>18.945000</td>\n      <td>0.013373</td>\n      <td>0.027461</td>\n      <td>0.014167</td>\n      <td>0.486972</td>\n      <td>-0.279253</td>\n      <td>-0.231122</td>\n      <td>0.166529</td>\n      <td>-0.025297</td>\n      <td>...</td>\n      <td>28</td>\n      <td>9</td>\n      <td>2</td>\n      <td>2002</td>\n      <td>2002-02-28</td>\n      <td>INTU</td>\n      <td>0.572063</td>\n      <td>0.842868</td>\n      <td>0.825501</td>\n      <td>1.000000</td>\n    </tr>\n  </tbody>\n</table>\n<p>132863 rows × 24 columns</p>\n</div>"
     },
     "execution_count": 41,
     "metadata": {},
     "output_type": "execute_result"
    }
   ],
   "source": [
    "features"
   ],
   "metadata": {
    "collapsed": false,
    "pycharm": {
     "name": "#%%\n"
    }
   }
  },
  {
   "cell_type": "code",
   "execution_count": 24,
   "outputs": [],
   "source": [
    "features_w_cpd = include_changepoint_features(features, cpd_dir(lookback_window_length), lookback_window_length)"
   ],
   "metadata": {
    "collapsed": false,
    "pycharm": {
     "name": "#%%\n"
    }
   }
  },
  {
   "cell_type": "code",
   "execution_count": 25,
   "outputs": [],
   "source": [
    "extra = extra_lbw[0]"
   ],
   "metadata": {
    "collapsed": false,
    "pycharm": {
     "name": "#%%\n"
    }
   }
  },
  {
   "cell_type": "code",
   "execution_count": 19,
   "outputs": [
    {
     "data": {
      "text/plain": "'data/features'"
     },
     "execution_count": 19,
     "metadata": {},
     "output_type": "execute_result"
    }
   ],
   "source": [
    "extra_data = pd.read_csv()"
   ],
   "metadata": {
    "collapsed": false,
    "pycharm": {
     "name": "#%%\n"
    }
   }
  },
  {
   "cell_type": "code",
   "execution_count": 21,
   "outputs": [
    {
     "data": {
      "text/plain": "'../../../Desktop/OneDrive/cool stuff/data/yfinance_cpd_21lbw'"
     },
     "execution_count": 21,
     "metadata": {},
     "output_type": "execute_result"
    }
   ],
   "source": [
    "cpd_module_folder.replace(\n",
    "                        f\"wrds_cpd_{lookback_window_length}lbw.csv\",\n",
    "                        f\"wrds_cpd_{extra}lbw.csv\",\n",
    "                    )"
   ],
   "metadata": {
    "collapsed": false,
    "pycharm": {
     "name": "#%%\n"
    }
   }
  },
  {
   "cell_type": "code",
   "execution_count": null,
   "outputs": [],
   "source": [],
   "metadata": {
    "collapsed": false,
    "pycharm": {
     "name": "#%%\n"
    }
   }
  }
 ],
 "metadata": {
  "kernelspec": {
   "display_name": "Python 3",
   "language": "python",
   "name": "python3"
  },
  "language_info": {
   "codemirror_mode": {
    "name": "ipython",
    "version": 3
   },
   "file_extension": ".py",
   "mimetype": "text/x-python",
   "name": "python",
   "nbconvert_exporter": "python",
   "pygments_lexer": "ipython3",
   "version": "3.7.8"
  }
 },
 "nbformat": 4,
 "nbformat_minor": 1
}